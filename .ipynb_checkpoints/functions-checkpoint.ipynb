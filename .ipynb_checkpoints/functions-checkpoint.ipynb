{
 "cells": [
  {
   "cell_type": "code",
   "execution_count": 9,
   "id": "a371199c-8885-43bb-a73d-a0b014adceb9",
   "metadata": {},
   "outputs": [],
   "source": [
    "#My First Notebook"
   ]
  },
  {
   "cell_type": "code",
   "execution_count": 10,
   "id": "3938ae21-a2e1-49b2-97ee-460a199cd3f0",
   "metadata": {},
   "outputs": [
    {
     "name": "stdout",
     "output_type": "stream",
     "text": [
      "Hello World\n"
     ]
    }
   ],
   "source": [
    "print(\"Hello World\")"
   ]
  },
  {
   "cell_type": "code",
   "execution_count": 29,
   "id": "b7113176-cead-4dfd-bc7c-95af5190dde4",
   "metadata": {},
   "outputs": [],
   "source": [
    "import math"
   ]
  },
  {
   "cell_type": "code",
   "execution_count": 55,
   "id": "5c7c2217-ff15-4325-875d-c8ea7c972ee7",
   "metadata": {},
   "outputs": [],
   "source": [
    "def loan_emi (amt,n,r,dp=0):\n",
    "    loan_amt=amt-dp\n",
    "    emi=(loan_amt*r*(1+r)**n)/(((1+r)**n)-1)\n",
    "    return (emi)"
   ]
  },
  {
   "cell_type": "code",
   "execution_count": 33,
   "id": "98693c1f-4273-4b94-80ae-81545012f747",
   "metadata": {},
   "outputs": [],
   "source": [
    "emi1=loan_emi(1260000,10*12,0.08/12)"
   ]
  },
  {
   "cell_type": "code",
   "execution_count": 35,
   "id": "0a1905b2-9539-4683-ade8-69bac2bb5ceb",
   "metadata": {},
   "outputs": [],
   "source": [
    "emi2=loan_emi(1260000,8*12,0.10/12,3e5)"
   ]
  },
  {
   "cell_type": "code",
   "execution_count": 37,
   "id": "e445d646-a19f-41f0-ae5a-04766c160d98",
   "metadata": {},
   "outputs": [
    {
     "data": {
      "text/plain": [
       "15288"
      ]
     },
     "execution_count": 37,
     "metadata": {},
     "output_type": "execute_result"
    }
   ],
   "source": [
    "emi1"
   ]
  },
  {
   "cell_type": "code",
   "execution_count": 39,
   "id": "6628a4c4-5b23-4884-8f9d-37d56e6f35a9",
   "metadata": {},
   "outputs": [
    {
     "data": {
      "text/plain": [
       "14568"
      ]
     },
     "execution_count": 39,
     "metadata": {},
     "output_type": "execute_result"
    }
   ],
   "source": [
    "emi2"
   ]
  },
  {
   "cell_type": "code",
   "execution_count": 43,
   "id": "6535fef8-925a-4c41-bc56-ae9f312a59ff",
   "metadata": {},
   "outputs": [
    {
     "name": "stdout",
     "output_type": "stream",
     "text": [
      "Option 2 has lower emi: $14568\n"
     ]
    }
   ],
   "source": [
    "if emi1<emi2:\n",
    "    print(\"Option 1 has lower emi: ${}\".format(emi1))\n",
    "else:\n",
    "    print(\"Option 2 has lower emi: ${}\".format(emi2))"
   ]
  },
  {
   "cell_type": "code",
   "execution_count": 57,
   "id": "0121978d-bd03-48c1-b5f3-e494459b6f10",
   "metadata": {},
   "outputs": [],
   "source": [
    "emi=loan_emi(1e5,10*12,0.09/12)\n",
    "interest_paid=emi*10*12-1e5"
   ]
  },
  {
   "cell_type": "code",
   "execution_count": 59,
   "id": "1b580aa4-e8a5-4164-997e-b6e80edeb31d",
   "metadata": {},
   "outputs": [
    {
     "name": "stdout",
     "output_type": "stream",
     "text": [
      "The interest paid for the amount $100000.0 over a period of 10 years is: $52010.928500298614\n"
     ]
    }
   ],
   "source": [
    "print(\"The interest paid for the amount ${} over a period of {} years is: ${}\".format(1e5,10,interest_paid))"
   ]
  },
  {
   "cell_type": "code",
   "execution_count": 51,
   "id": "bdb3f282-bd53-4891-854a-84c172716066",
   "metadata": {},
   "outputs": [
    {
     "name": "stdout",
     "output_type": "stream",
     "text": [
      "833.3333333333334\n"
     ]
    }
   ],
   "source": [
    "print(1e5/120)"
   ]
  },
  {
   "cell_type": "code",
   "execution_count": 61,
   "id": "f9575b5e-8b51-4fae-a8a8-317ed5f54f6e",
   "metadata": {},
   "outputs": [
    {
     "data": {
      "text/plain": [
       "1266.7577375024885"
      ]
     },
     "execution_count": 61,
     "metadata": {},
     "output_type": "execute_result"
    }
   ],
   "source": [
    "emi"
   ]
  }
 ],
 "metadata": {
  "kernelspec": {
   "display_name": "Python 3 (ipykernel)",
   "language": "python",
   "name": "python3"
  },
  "language_info": {
   "codemirror_mode": {
    "name": "ipython",
    "version": 3
   },
   "file_extension": ".py",
   "mimetype": "text/x-python",
   "name": "python",
   "nbconvert_exporter": "python",
   "pygments_lexer": "ipython3",
   "version": "3.12.4"
  }
 },
 "nbformat": 4,
 "nbformat_minor": 5
}
